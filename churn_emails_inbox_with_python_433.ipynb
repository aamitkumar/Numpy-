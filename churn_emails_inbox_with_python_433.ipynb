{
 "cells": [
  {
   "cell_type": "code",
   "execution_count": 4,
   "metadata": {},
   "outputs": [],
   "source": [
    "def number_of_lines():\n",
    "    path='/cxldata/datasets/project/mbox-short.txt'\n",
    "    fhand=open(path)\n",
    "    inp=fhand.read()\n",
    "    fhand.close()\n",
    "    count=0\n",
    "    #lines=inp.split('\\n')\n",
    "    for c in inp:\n",
    "        if c=='\\n':\n",
    "            count=count+1\n",
    "    return count"
   ]
  },
  {
   "cell_type": "code",
   "execution_count": 5,
   "metadata": {},
   "outputs": [
    {
     "name": "stdout",
     "output_type": "stream",
     "text": [
      "1910\n"
     ]
    }
   ],
   "source": [
    "print(number_of_lines())"
   ]
  },
  {
   "cell_type": "code",
   "execution_count": 6,
   "metadata": {},
   "outputs": [],
   "source": [
    "import re\n",
    "def count_number_of_lines():\n",
    "    path='/cxldata/datasets/project/mbox-short.txt'\n",
    "    fhand=open(path)\n",
    "    count=0\n",
    "    for line in fhand:\n",
    "        if re.search('Subject:',line):\n",
    "            count=count+1\n",
    "    return count\n"
   ]
  },
  {
   "cell_type": "code",
   "execution_count": 7,
   "metadata": {},
   "outputs": [
    {
     "name": "stdout",
     "output_type": "stream",
     "text": [
      "27\n"
     ]
    }
   ],
   "source": [
    "print(count_number_of_lines())"
   ]
  },
  {
   "cell_type": "code",
   "execution_count": 8,
   "metadata": {},
   "outputs": [],
   "source": [
    "def average_spam_confidence():\n",
    "    path='/cxldata/datasets/project/mbox-short.txt'\n",
    "    fhand=open(path)\n",
    "    s=0\n",
    "    count=0\n",
    "    for line in fhand:\n",
    "        if line.startswith('X-DSPAM-Confidence:'):\n",
    "            newline=line.split(':')\n",
    "            s=s+float(newline[1])\n",
    "            count=count+1\n",
    "    ave=s/count\n",
    "    return ave"
   ]
  },
  {
   "cell_type": "code",
   "execution_count": 9,
   "metadata": {},
   "outputs": [
    {
     "name": "stdout",
     "output_type": "stream",
     "text": [
      "0.7507185185185187\n"
     ]
    }
   ],
   "source": [
    "print(average_spam_confidence())"
   ]
  },
  {
   "cell_type": "code",
   "execution_count": 10,
   "metadata": {},
   "outputs": [],
   "source": [
    "def find_email_sent_days():\n",
    "    path='/cxldata/datasets/project/mbox-short.txt'\n",
    "    fhand=open(path)\n",
    "    #inp=fhand.read()\n",
    "    #fhand.close()\n",
    "    day_count=dict()\n",
    "    days=list()\n",
    "    for line in fhand:\n",
    "        if  line.startswith(\"From\"):\n",
    "            #print(line)\n",
    "            words=line.split(' ')\n",
    "            #print(words)\n",
    "            length=len(words)\n",
    "            if length>2:\n",
    "                days.append(words[2])\n",
    "    for day in days:\n",
    "        day_count[day]=day_count.get(day,0)+1\n",
    "    return day_count\n",
    "        "
   ]
  },
  {
   "cell_type": "code",
   "execution_count": 11,
   "metadata": {},
   "outputs": [
    {
     "name": "stdout",
     "output_type": "stream",
     "text": [
      "{'Sat': 1, 'Fri': 20, 'Thu': 6}\n"
     ]
    }
   ],
   "source": [
    "print(find_email_sent_days())"
   ]
  },
  {
   "cell_type": "code",
   "execution_count": 12,
   "metadata": {},
   "outputs": [],
   "source": [
    "def count_message_from_email():\n",
    "    path='/cxldata/datasets/project/mbox-short.txt'\n",
    "    fhand=open(path)\n",
    "    #inp=fhand.read()\n",
    "    #fhand.close()\n",
    "    email=list()\n",
    "    total_email=dict()\n",
    "    for line in fhand:\n",
    "        #print(line)\n",
    "        if line.startswith(\"From\"):\n",
    "            words=line.split(' ')\n",
    "            email.append(words[1])\n",
    "    for id in email:\n",
    "        total_email[id]=total_email.get(id,0)+1\n",
    "    return total_email\n"
   ]
  },
  {
   "cell_type": "code",
   "execution_count": 13,
   "metadata": {},
   "outputs": [
    {
     "name": "stdout",
     "output_type": "stream",
     "text": [
      "{'stephen.marquard@uct.ac.za': 2, 'stephen.marquard@uct.ac.za\\n': 2, 'louis@media.berkeley.edu': 3, 'louis@media.berkeley.edu\\n': 3, 'zqian@umich.edu': 4, 'zqian@umich.edu\\n': 4, 'rjlowe@iupui.edu': 2, 'rjlowe@iupui.edu\\n': 2, 'cwen@iupui.edu': 5, 'cwen@iupui.edu\\n': 5, 'gsilver@umich.edu': 3, 'gsilver@umich.edu\\n': 3, 'wagnermr@iupui.edu': 1, 'wagnermr@iupui.edu\\n': 1, 'antranig@caret.cam.ac.uk': 1, 'antranig@caret.cam.ac.uk\\n': 1, 'gopal.ramasammycook@gmail.com': 1, 'gopal.ramasammycook@gmail.com\\n': 1, 'david.horwitz@uct.ac.za': 4, 'david.horwitz@uct.ac.za\\n': 4, 'ray@media.berkeley.edu': 1, 'ray@media.berkeley.edu\\n': 1}\n"
     ]
    }
   ],
   "source": [
    "print(count_message_from_email())"
   ]
  },
  {
   "cell_type": "code",
   "execution_count": 14,
   "metadata": {},
   "outputs": [],
   "source": [
    "def count_message_from_domain():\n",
    "    path='/cxldata/datasets/project/mbox-short.txt'\n",
    "    fhand=open(path)\n",
    "    #inp=fhand.read()\n",
    "    #fhand.close()\n",
    "    email=list()\n",
    "    domail=list()\n",
    "    total_email=dict()\n",
    "    for line in fhand:\n",
    "        #print(line)\n",
    "        if line.startswith(\"From\"):\n",
    "            words=line.split(' ')\n",
    "            email.append(words[1])\n",
    "    for e in email:\n",
    "        d=e.split('@')\n",
    "        domail.append(d[1])\n",
    "    for id in domail:\n",
    "        total_email[id]=total_email.get(id,0)+1\n",
    "    return total_email\n",
    "\n"
   ]
  },
  {
   "cell_type": "code",
   "execution_count": 15,
   "metadata": {},
   "outputs": [
    {
     "name": "stdout",
     "output_type": "stream",
     "text": [
      "{'uct.ac.za': 6, 'uct.ac.za\\n': 6, 'media.berkeley.edu': 4, 'media.berkeley.edu\\n': 4, 'umich.edu': 7, 'umich.edu\\n': 7, 'iupui.edu': 8, 'iupui.edu\\n': 8, 'caret.cam.ac.uk': 1, 'caret.cam.ac.uk\\n': 1, 'gmail.com': 1, 'gmail.com\\n': 1}\n"
     ]
    }
   ],
   "source": [
    "print(count_message_from_domain())"
   ]
  },
  {
   "cell_type": "code",
   "execution_count": null,
   "metadata": {},
   "outputs": [],
   "source": []
  }
 ],
 "metadata": {
  "kernelspec": {
   "display_name": "Python 3",
   "language": "python",
   "name": "python3"
  },
  "language_info": {
   "codemirror_mode": {
    "name": "ipython",
    "version": 3
   },
   "file_extension": ".py",
   "mimetype": "text/x-python",
   "name": "python",
   "nbconvert_exporter": "python",
   "pygments_lexer": "ipython3",
   "version": "3.6.8"
  },
  "toc": {
   "base_numbering": 1,
   "nav_menu": {},
   "number_sections": true,
   "sideBar": true,
   "skip_h1_title": false,
   "title_cell": "Table of Contents",
   "title_sidebar": "Contents",
   "toc_cell": false,
   "toc_position": {},
   "toc_section_display": true,
   "toc_window_display": false
  }
 },
 "nbformat": 4,
 "nbformat_minor": 2
}
